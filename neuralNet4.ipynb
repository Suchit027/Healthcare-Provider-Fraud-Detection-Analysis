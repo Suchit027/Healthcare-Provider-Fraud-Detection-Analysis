{
 "cells": [
  {
   "cell_type": "code",
   "execution_count": 1,
   "metadata": {},
   "outputs": [],
   "source": [
    "import torch\n",
    "from torch import nn\n",
    "from torch.utils.data import Dataset, DataLoader\n",
    "from torchvision import transforms\n",
    "import pandas as pd"
   ]
  },
  {
   "cell_type": "code",
   "execution_count": 2,
   "metadata": {},
   "outputs": [],
   "source": [
    "class Network(nn.Module):\n",
    "    def __init__(self, p1, p2):\n",
    "        super().__init__()\n",
    "        self.features = nn.Sequential(\n",
    "            nn.Linear(31, 31, bias= True),\n",
    "            nn.ReLU(),\n",
    "            nn.Linear(31, 30, bias= True),\n",
    "            nn.ReLU(),\n",
    "            nn.Dropout(p= p1),\n",
    "            nn.Linear(30, 25, bias = True),\n",
    "            nn.ReLU(),\n",
    "            nn.Dropout(p= p2),\n",
    "            nn.Linear(25, 25, bias= True),\n",
    "            nn.ReLU(),\n",
    "            nn.Linear(25, 20, bias= True),\n",
    "            nn.ReLU(),\n",
    "            nn.Linear(20, 15, bias= True),\n",
    "            nn.ReLU(),\n",
    "            nn.Linear(15, 10, bias= True),\n",
    "            nn.ReLU()\n",
    "        )\n",
    "        self.classify = nn.Sequential(\n",
    "            nn.Linear(10, 1, bias= True),\n",
    "            nn.Sigmoid()\n",
    "        )\n",
    "    \n",
    "    def forward(self, x):\n",
    "        return self.classify(self.features(x))"
   ]
  },
  {
   "cell_type": "code",
   "execution_count": 3,
   "metadata": {},
   "outputs": [],
   "source": [
    "class Data(Dataset):\n",
    "    def __init__(self, x, y):\n",
    "        super().__init__()\n",
    "        self.x = torch.tensor(x.values, dtype= torch.float32)\n",
    "        self.y = torch.tensor(y.values, dtype= torch.float32)\n",
    "    def __len__(self):\n",
    "        return self.x.shape[0]\n",
    "    def __getitem__(self, index):\n",
    "        x, y = self.x[index], self.y[index]\n",
    "        return x, y"
   ]
  },
  {
   "cell_type": "code",
   "execution_count": 4,
   "metadata": {},
   "outputs": [],
   "source": [
    "xtrain, ytrain, xtest, ytest = pd.read_csv('./X_train.csv', header= None, index_col = None), pd.read_csv('./y_train.csv', header = None, index_col = None), pd.read_csv('./X_test.csv', header = None, index_col = None), pd.read_csv('./y_test.csv', header = None, index_col = None)\n",
    "train_data = Data(x= xtrain, y= ytrain)\n",
    "test_data = Data(x= xtest, y= ytest)\n",
    "train_loader = DataLoader(train_data, batch_size=10000, shuffle= True)\n",
    "test_loader = DataLoader(test_data, batch_size= 10000)"
   ]
  },
  {
   "cell_type": "code",
   "execution_count": 5,
   "metadata": {},
   "outputs": [
    {
     "data": {
      "text/plain": [
       "Network(\n",
       "  (features): Sequential(\n",
       "    (0): Linear(in_features=31, out_features=31, bias=True)\n",
       "    (1): ReLU()\n",
       "    (2): Linear(in_features=31, out_features=30, bias=True)\n",
       "    (3): ReLU()\n",
       "    (4): Dropout(p=0.3, inplace=False)\n",
       "    (5): Linear(in_features=30, out_features=25, bias=True)\n",
       "    (6): ReLU()\n",
       "    (7): Dropout(p=0.6, inplace=False)\n",
       "    (8): Linear(in_features=25, out_features=25, bias=True)\n",
       "    (9): ReLU()\n",
       "    (10): Linear(in_features=25, out_features=20, bias=True)\n",
       "    (11): ReLU()\n",
       "    (12): Linear(in_features=20, out_features=15, bias=True)\n",
       "    (13): ReLU()\n",
       "    (14): Linear(in_features=15, out_features=10, bias=True)\n",
       "    (15): ReLU()\n",
       "  )\n",
       "  (classify): Sequential(\n",
       "    (0): Linear(in_features=10, out_features=1, bias=True)\n",
       "    (1): Sigmoid()\n",
       "  )\n",
       ")"
      ]
     },
     "execution_count": 5,
     "metadata": {},
     "output_type": "execute_result"
    }
   ],
   "source": [
    "model = Network(0.3, 0.6)\n",
    "model.to('cuda')"
   ]
  },
  {
   "cell_type": "code",
   "execution_count": 6,
   "metadata": {},
   "outputs": [],
   "source": [
    "criterion = nn.BCELoss()\n",
    "optimizer = torch.optim.Adam(model.parameters(), lr = 0.01, weight_decay= 0.001)"
   ]
  },
  {
   "cell_type": "code",
   "execution_count": 7,
   "metadata": {},
   "outputs": [
    {
     "name": "stdout",
     "output_type": "stream",
     "text": [
      "loss - 35.35257989168167\n",
      "loss - 33.87495255470276\n",
      "loss - 33.8677094578743\n",
      "loss - 33.85848927497864\n",
      "loss - 33.72991555929184\n",
      "loss - 33.64813190698624\n",
      "loss - 33.65489053726196\n",
      "loss - 33.627980172634125\n",
      "loss - 33.62470942735672\n",
      "loss - 33.618605971336365\n",
      "loss - 33.60503560304642\n",
      "loss - 33.620621621608734\n",
      "loss - 33.602383613586426\n",
      "loss - 33.62160325050354\n",
      "loss - 33.619930267333984\n",
      "loss - 33.61189216375351\n",
      "loss - 33.63171523809433\n",
      "loss - 33.609570264816284\n",
      "loss - 33.60699778795242\n",
      "loss - 33.61161643266678\n",
      "loss - 33.60095018148422\n",
      "loss - 33.62514239549637\n",
      "loss - 33.62805622816086\n",
      "loss - 33.60885101556778\n",
      "loss - 33.62029939889908\n",
      "loss - 33.61142945289612\n",
      "loss - 33.61834704875946\n",
      "loss - 33.6035760641098\n",
      "loss - 33.60597348213196\n",
      "loss - 33.60027098655701\n",
      "loss - 33.6218239068985\n",
      "loss - 33.621457517147064\n",
      "loss - 33.60853308439255\n",
      "loss - 33.61387610435486\n",
      "loss - 33.61371463537216\n",
      "loss - 33.62207514047623\n",
      "loss - 33.606233060359955\n",
      "loss - 33.61353290081024\n",
      "loss - 33.61843299865723\n",
      "loss - 33.601956605911255\n",
      "loss - 33.60982275009155\n",
      "loss - 33.60267275571823\n",
      "loss - 33.61118495464325\n",
      "loss - 33.60274821519852\n",
      "loss - 33.61852115392685\n",
      "loss - 33.62606620788574\n",
      "loss - 33.63912087678909\n",
      "loss - 33.60207146406174\n",
      "loss - 33.59681975841522\n",
      "loss - 33.59893870353699\n",
      "loss - 33.612144231796265\n",
      "loss - 33.63846427202225\n",
      "loss - 33.62075936794281\n",
      "loss - 33.618895292282104\n",
      "loss - 33.6094291806221\n",
      "loss - 33.604205429553986\n",
      "loss - 33.602965235710144\n",
      "loss - 33.61146819591522\n",
      "loss - 33.61553430557251\n",
      "loss - 33.61455708742142\n",
      "loss - 33.60653644800186\n",
      "loss - 33.60531222820282\n",
      "loss - 33.597317934036255\n",
      "loss - 33.59955894947052\n",
      "loss - 33.6052160859108\n",
      "loss - 33.62811744213104\n",
      "loss - 33.612819850444794\n",
      "loss - 33.60919642448425\n",
      "loss - 33.6073340177536\n",
      "loss - 33.625977993011475\n",
      "loss - 33.611299991607666\n",
      "loss - 33.60932666063309\n",
      "loss - 33.604826271533966\n",
      "loss - 33.60465204715729\n",
      "loss - 33.60900032520294\n",
      "loss - 33.5969734787941\n",
      "loss - 33.606919288635254\n",
      "loss - 33.60525715351105\n",
      "loss - 33.60751539468765\n",
      "loss - 33.60392278432846\n",
      "loss - 33.6078445315361\n",
      "loss - 33.60797154903412\n",
      "loss - 33.62103456258774\n",
      "loss - 33.6102631688118\n",
      "loss - 33.60067158937454\n",
      "loss - 33.615440249443054\n",
      "loss - 33.60999745130539\n",
      "loss - 33.60081511735916\n",
      "loss - 33.607898354530334\n",
      "loss - 33.60865068435669\n",
      "loss - 33.6066460609436\n",
      "loss - 33.6025527715683\n",
      "loss - 33.59879916906357\n",
      "loss - 33.600123941898346\n",
      "loss - 33.596579909324646\n",
      "loss - 33.60876643657684\n",
      "loss - 33.6106898188591\n",
      "loss - 33.605152904987335\n",
      "loss - 33.631002485752106\n",
      "loss - 33.62488669157028\n"
     ]
    }
   ],
   "source": [
    "for epoch in range(100):\n",
    "    model.train()\n",
    "    running_loss = 0.0\n",
    "    for input, target in train_loader:\n",
    "        input, target = input.to('cuda'), target.to('cuda')\n",
    "        optimizer.zero_grad()\n",
    "        output = model(input)\n",
    "        loss = criterion(output, target)\n",
    "        loss.backward()\n",
    "        optimizer.step()\n",
    "        running_loss += loss.item()\n",
    "    print(f'loss - {running_loss}')"
   ]
  },
  {
   "cell_type": "code",
   "execution_count": 8,
   "metadata": {},
   "outputs": [
    {
     "name": "stdout",
     "output_type": "stream",
     "text": [
      "0.6260255813120276\n"
     ]
    }
   ],
   "source": [
    "model.eval()\n",
    "all_preds, all_labels = [], []\n",
    "with torch.no_grad():\n",
    "    for input, target in test_loader:\n",
    "        input, target = input.to('cuda'), target.to('cuda')\n",
    "        output = torch.round(model(input))\n",
    "        all_preds.extend(output.to('cpu'))\n",
    "        all_labels.extend(target.to('cpu'))\n",
    "\n",
    "from sklearn.metrics import accuracy_score\n",
    "print(accuracy_score(all_preds, all_labels))\n"
   ]
  },
  {
   "cell_type": "code",
   "execution_count": null,
   "metadata": {},
   "outputs": [],
   "source": []
  }
 ],
 "metadata": {
  "kernelspec": {
   "display_name": "venv",
   "language": "python",
   "name": "python3"
  },
  "language_info": {
   "codemirror_mode": {
    "name": "ipython",
    "version": 3
   },
   "file_extension": ".py",
   "mimetype": "text/x-python",
   "name": "python",
   "nbconvert_exporter": "python",
   "pygments_lexer": "ipython3",
   "version": "3.12.9"
  }
 },
 "nbformat": 4,
 "nbformat_minor": 2
}
