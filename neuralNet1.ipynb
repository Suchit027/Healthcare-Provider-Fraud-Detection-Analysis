{
 "cells": [
  {
   "cell_type": "code",
   "execution_count": 1,
   "metadata": {},
   "outputs": [],
   "source": [
    "import torch\n",
    "from torch import nn\n",
    "from torch.utils.data import Dataset, DataLoader\n",
    "from torchvision import transforms\n",
    "import pandas as pd"
   ]
  },
  {
   "cell_type": "code",
   "execution_count": 2,
   "metadata": {},
   "outputs": [],
   "source": [
    "class Network(nn.Module):\n",
    "    def __init__(self, p1, p2):\n",
    "        super().__init__()\n",
    "        self.features = nn.Sequential(\n",
    "            nn.Linear(31, 25, bias= True),\n",
    "            nn.ReLU(),\n",
    "            nn.Linear(25, 20, bias= True),\n",
    "            nn.ReLU(),\n",
    "            nn.Dropout(p= p1),\n",
    "            nn.Linear(20, 15, bias = True),\n",
    "            nn.ReLU(),\n",
    "            nn.Dropout(p= p2),\n",
    "            nn.Linear(15, 10, bias= True),\n",
    "            nn.ReLU()\n",
    "        )\n",
    "        self.classify = nn.Sequential(\n",
    "            nn.Linear(10, 1, bias= True),\n",
    "            nn.Sigmoid()\n",
    "        )\n",
    "    \n",
    "    def forward(self, x):\n",
    "        return self.classify(self.features(x))"
   ]
  },
  {
   "cell_type": "code",
   "execution_count": 3,
   "metadata": {},
   "outputs": [],
   "source": [
    "class Data(Dataset):\n",
    "    def __init__(self, x, y):\n",
    "        super().__init__()\n",
    "        self.x = torch.tensor(x.values, dtype= torch.float32)\n",
    "        self.y = torch.tensor(y.values, dtype= torch.float32)\n",
    "    def __len__(self):\n",
    "        return self.x.shape[0]\n",
    "    def __getitem__(self, index):\n",
    "        x, y = self.x[index], self.y[index]\n",
    "        return x, y"
   ]
  },
  {
   "cell_type": "code",
   "execution_count": 4,
   "metadata": {},
   "outputs": [],
   "source": [
    "xtrain, ytrain, xtest, ytest = pd.read_csv('./X_train.csv', header= None, index_col = None), pd.read_csv('./y_train.csv', header = None, index_col = None), pd.read_csv('./X_test.csv', header = None, index_col = None), pd.read_csv('./y_test.csv', header = None, index_col = None)\n",
    "train_data = Data(x= xtrain, y= ytrain)\n",
    "test_data = Data(x= xtest, y= ytest)\n",
    "train_loader = DataLoader(train_data, batch_size=10000, shuffle= True)\n",
    "test_loader = DataLoader(test_data, batch_size= 10000)"
   ]
  },
  {
   "cell_type": "code",
   "execution_count": 5,
   "metadata": {},
   "outputs": [
    {
     "data": {
      "text/plain": [
       "Network(\n",
       "  (features): Sequential(\n",
       "    (0): Linear(in_features=31, out_features=25, bias=True)\n",
       "    (1): ReLU()\n",
       "    (2): Linear(in_features=25, out_features=20, bias=True)\n",
       "    (3): ReLU()\n",
       "    (4): Dropout(p=0.5, inplace=False)\n",
       "    (5): Linear(in_features=20, out_features=15, bias=True)\n",
       "    (6): ReLU()\n",
       "    (7): Dropout(p=0.5, inplace=False)\n",
       "    (8): Linear(in_features=15, out_features=10, bias=True)\n",
       "    (9): ReLU()\n",
       "  )\n",
       "  (classify): Sequential(\n",
       "    (0): Linear(in_features=10, out_features=1, bias=True)\n",
       "    (1): Sigmoid()\n",
       "  )\n",
       ")"
      ]
     },
     "execution_count": 5,
     "metadata": {},
     "output_type": "execute_result"
    }
   ],
   "source": [
    "model = Network(0.5, 0.5)\n",
    "model.to('cuda')"
   ]
  },
  {
   "cell_type": "code",
   "execution_count": 6,
   "metadata": {},
   "outputs": [],
   "source": [
    "criterion = nn.BCELoss()\n",
    "optimizer = torch.optim.Adam(model.parameters(), lr = 0.01)"
   ]
  },
  {
   "cell_type": "code",
   "execution_count": 7,
   "metadata": {},
   "outputs": [
    {
     "name": "stdout",
     "output_type": "stream",
     "text": [
      "loss - 63.609829127788544\n",
      "loss - 33.837638795375824\n",
      "loss - 33.824039697647095\n",
      "loss - 33.83064126968384\n",
      "loss - 33.824156165122986\n",
      "loss - 33.826070964336395\n",
      "loss - 33.828673183918\n",
      "loss - 33.827759861946106\n",
      "loss - 33.817284405231476\n",
      "loss - 33.808863401412964\n",
      "loss - 33.81495827436447\n",
      "loss - 33.8258353471756\n",
      "loss - 33.824654936790466\n",
      "loss - 33.81456524133682\n",
      "loss - 33.82159596681595\n",
      "loss - 33.81598216295242\n",
      "loss - 33.81394696235657\n",
      "loss - 33.814747989177704\n",
      "loss - 33.811072289943695\n",
      "loss - 33.80386120080948\n",
      "loss - 33.80431580543518\n",
      "loss - 33.80136811733246\n",
      "loss - 33.80238664150238\n",
      "loss - 33.8123385310173\n",
      "loss - 33.802214205265045\n",
      "loss - 33.797362327575684\n",
      "loss - 33.79121798276901\n",
      "loss - 33.78795915842056\n",
      "loss - 33.79780775308609\n",
      "loss - 33.79899877309799\n",
      "loss - 33.78781658411026\n",
      "loss - 33.78034174442291\n",
      "loss - 33.783567011356354\n",
      "loss - 33.77648276090622\n",
      "loss - 33.78610956668854\n",
      "loss - 33.789334654808044\n",
      "loss - 33.78431278467178\n",
      "loss - 33.77244961261749\n",
      "loss - 33.79081493616104\n",
      "loss - 33.77976578474045\n",
      "loss - 33.77525931596756\n",
      "loss - 33.77092617750168\n",
      "loss - 33.78690421581268\n",
      "loss - 33.782397747039795\n",
      "loss - 33.78570747375488\n",
      "loss - 33.77073645591736\n",
      "loss - 33.760879814624786\n",
      "loss - 33.77052253484726\n",
      "loss - 33.764415204524994\n",
      "loss - 33.76367139816284\n",
      "loss - 33.75581508874893\n",
      "loss - 33.76357710361481\n",
      "loss - 33.776152431964874\n",
      "loss - 33.76515734195709\n",
      "loss - 33.77378135919571\n",
      "loss - 33.76362907886505\n",
      "loss - 33.747435450553894\n",
      "loss - 33.750503718853\n",
      "loss - 33.731480836868286\n",
      "loss - 33.75279384851456\n",
      "loss - 33.765645921230316\n",
      "loss - 33.75744163990021\n",
      "loss - 33.75426024198532\n",
      "loss - 33.75020641088486\n",
      "loss - 33.73624050617218\n",
      "loss - 33.758251667022705\n",
      "loss - 33.73547875881195\n",
      "loss - 33.7434960603714\n",
      "loss - 33.7292400598526\n",
      "loss - 33.76266473531723\n",
      "loss - 33.72030305862427\n",
      "loss - 33.72814327478409\n",
      "loss - 33.73094856739044\n",
      "loss - 33.736041486263275\n",
      "loss - 33.74403131008148\n",
      "loss - 33.77148514986038\n",
      "loss - 33.7809664607048\n",
      "loss - 33.77036601305008\n",
      "loss - 33.76486033201218\n",
      "loss - 33.755016922950745\n",
      "loss - 33.72955811023712\n",
      "loss - 33.762126207351685\n",
      "loss - 33.74366021156311\n",
      "loss - 33.75675767660141\n",
      "loss - 33.76742446422577\n",
      "loss - 33.78055167198181\n",
      "loss - 33.75099551677704\n",
      "loss - 33.76370668411255\n",
      "loss - 33.77582001686096\n",
      "loss - 33.75080579519272\n",
      "loss - 33.771592140197754\n",
      "loss - 33.731264531612396\n",
      "loss - 33.75531220436096\n",
      "loss - 33.73390728235245\n",
      "loss - 33.75893718004227\n",
      "loss - 33.79547160863876\n",
      "loss - 33.74600839614868\n",
      "loss - 33.83069312572479\n",
      "loss - 33.747692942619324\n",
      "loss - 33.755364775657654\n"
     ]
    }
   ],
   "source": [
    "for epoch in range(100):\n",
    "    model.train()\n",
    "    running_loss = 0.0\n",
    "    for input, target in train_loader:\n",
    "        input, target = input.to('cuda'), target.to('cuda')\n",
    "        optimizer.zero_grad()\n",
    "        output = model(input)\n",
    "        loss = criterion(output, target)\n",
    "        loss.backward()\n",
    "        optimizer.step()\n",
    "        running_loss += loss.item()\n",
    "    print(f'loss - {running_loss}')"
   ]
  },
  {
   "cell_type": "code",
   "execution_count": 9,
   "metadata": {},
   "outputs": [
    {
     "name": "stdout",
     "output_type": "stream",
     "text": [
      "0.6264376052452438\n"
     ]
    }
   ],
   "source": [
    "model.eval()\n",
    "all_preds, all_labels = [], []\n",
    "with torch.no_grad():\n",
    "    for input, target in test_loader:\n",
    "        input, target = input.to('cuda'), target.to('cuda')\n",
    "        output = torch.round(model(input))\n",
    "        all_preds.extend(output.to('cpu'))\n",
    "        all_labels.extend(target.to('cpu'))\n",
    "\n",
    "from sklearn.metrics import accuracy_score\n",
    "print(accuracy_score(all_preds, all_labels))\n"
   ]
  }
 ],
 "metadata": {
  "kernelspec": {
   "display_name": "venv",
   "language": "python",
   "name": "python3"
  },
  "language_info": {
   "codemirror_mode": {
    "name": "ipython",
    "version": 3
   },
   "file_extension": ".py",
   "mimetype": "text/x-python",
   "name": "python",
   "nbconvert_exporter": "python",
   "pygments_lexer": "ipython3",
   "version": "3.12.9"
  }
 },
 "nbformat": 4,
 "nbformat_minor": 2
}
