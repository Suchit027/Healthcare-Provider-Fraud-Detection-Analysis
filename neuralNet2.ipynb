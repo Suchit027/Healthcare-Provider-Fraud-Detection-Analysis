{
 "cells": [
  {
   "cell_type": "code",
   "execution_count": 2,
   "metadata": {},
   "outputs": [],
   "source": [
    "import torch\n",
    "from torch import nn\n",
    "from torch.utils.data import Dataset, DataLoader\n",
    "from torchvision import transforms\n",
    "import pandas as pd"
   ]
  },
  {
   "cell_type": "code",
   "execution_count": 3,
   "metadata": {},
   "outputs": [],
   "source": [
    "class Network(nn.Module):\n",
    "    def __init__(self, p1, p2):\n",
    "        super().__init__()\n",
    "        self.features = nn.Sequential(\n",
    "            nn.Linear(31, 25, bias= True),\n",
    "            nn.ReLU(),\n",
    "            nn.Linear(25, 20, bias= True),\n",
    "            nn.ReLU(),\n",
    "            nn.Dropout(p= p1),\n",
    "            nn.Linear(20, 15, bias = True),\n",
    "            nn.ReLU(),\n",
    "            nn.Dropout(p= p2),\n",
    "            nn.Linear(15, 10, bias= True),\n",
    "            nn.ReLU()\n",
    "        )\n",
    "        self.classify = nn.Sequential(\n",
    "            nn.Linear(10, 1, bias= True),\n",
    "            nn.Sigmoid()\n",
    "        )\n",
    "    \n",
    "    def forward(self, x):\n",
    "        return self.classify(self.features(x))"
   ]
  },
  {
   "cell_type": "code",
   "execution_count": 4,
   "metadata": {},
   "outputs": [],
   "source": [
    "class Data(Dataset):\n",
    "    def __init__(self, x, y):\n",
    "        super().__init__()\n",
    "        self.x = torch.tensor(x.values, dtype= torch.float32)\n",
    "        self.y = torch.tensor(y.values, dtype= torch.float32)\n",
    "    def __len__(self):\n",
    "        return self.x.shape[0]\n",
    "    def __getitem__(self, index):\n",
    "        x, y = self.x[index], self.y[index]\n",
    "        return x, y"
   ]
  },
  {
   "cell_type": "code",
   "execution_count": 5,
   "metadata": {},
   "outputs": [],
   "source": [
    "xtrain, ytrain, xtest, ytest = pd.read_csv('./X_train.csv', header= None, index_col = None), pd.read_csv('./y_train.csv', header = None, index_col = None), pd.read_csv('./X_test.csv', header = None, index_col = None), pd.read_csv('./y_test.csv', header = None, index_col = None)\n",
    "train_data = Data(x= xtrain, y= ytrain)\n",
    "test_data = Data(x= xtest, y= ytest)\n",
    "train_loader = DataLoader(train_data, batch_size=10000, shuffle= True)\n",
    "test_loader = DataLoader(test_data, batch_size= 10000)"
   ]
  },
  {
   "cell_type": "code",
   "execution_count": 6,
   "metadata": {},
   "outputs": [
    {
     "data": {
      "text/plain": [
       "Network(\n",
       "  (features): Sequential(\n",
       "    (0): Linear(in_features=31, out_features=25, bias=True)\n",
       "    (1): ReLU()\n",
       "    (2): Linear(in_features=25, out_features=20, bias=True)\n",
       "    (3): ReLU()\n",
       "    (4): Dropout(p=0.3, inplace=False)\n",
       "    (5): Linear(in_features=20, out_features=15, bias=True)\n",
       "    (6): ReLU()\n",
       "    (7): Dropout(p=0.6, inplace=False)\n",
       "    (8): Linear(in_features=15, out_features=10, bias=True)\n",
       "    (9): ReLU()\n",
       "  )\n",
       "  (classify): Sequential(\n",
       "    (0): Linear(in_features=10, out_features=1, bias=True)\n",
       "    (1): Sigmoid()\n",
       "  )\n",
       ")"
      ]
     },
     "execution_count": 6,
     "metadata": {},
     "output_type": "execute_result"
    }
   ],
   "source": [
    "model = Network(0.3, 0.6)\n",
    "model.to('cuda')"
   ]
  },
  {
   "cell_type": "code",
   "execution_count": 7,
   "metadata": {},
   "outputs": [],
   "source": [
    "criterion = nn.BCELoss()\n",
    "optimizer = torch.optim.Adam(model.parameters(), lr = 0.01)"
   ]
  },
  {
   "cell_type": "code",
   "execution_count": 8,
   "metadata": {},
   "outputs": [
    {
     "name": "stdout",
     "output_type": "stream",
     "text": [
      "loss - 53.739706099033356\n",
      "loss - 33.910582304000854\n",
      "loss - 33.89159798622131\n",
      "loss - 33.88821077346802\n",
      "loss - 33.891886830329895\n",
      "loss - 33.89867848157883\n",
      "loss - 33.892412066459656\n",
      "loss - 33.88836580514908\n",
      "loss - 33.886214196681976\n",
      "loss - 33.88957595825195\n",
      "loss - 33.889761090278625\n",
      "loss - 33.88747102022171\n",
      "loss - 33.88984704017639\n",
      "loss - 33.887325406074524\n",
      "loss - 33.893911600112915\n",
      "loss - 33.89974993467331\n",
      "loss - 33.895221173763275\n",
      "loss - 33.89426249265671\n",
      "loss - 33.89461886882782\n",
      "loss - 33.89052605628967\n",
      "loss - 33.88882625102997\n",
      "loss - 33.88729631900787\n",
      "loss - 33.885713160037994\n",
      "loss - 33.88565158843994\n",
      "loss - 33.89199733734131\n",
      "loss - 33.88773363828659\n",
      "loss - 33.89388185739517\n",
      "loss - 33.89512640237808\n",
      "loss - 33.8867883682251\n",
      "loss - 33.88788837194443\n",
      "loss - 33.8856138586998\n",
      "loss - 33.88507390022278\n",
      "loss - 33.89667421579361\n",
      "loss - 33.88410395383835\n",
      "loss - 33.89231276512146\n",
      "loss - 33.88796925544739\n",
      "loss - 33.89167767763138\n",
      "loss - 33.89127969741821\n",
      "loss - 33.89119392633438\n",
      "loss - 33.89398670196533\n",
      "loss - 33.88527971506119\n",
      "loss - 33.890476644039154\n",
      "loss - 33.88904291391373\n",
      "loss - 33.89022755622864\n",
      "loss - 33.89220327138901\n",
      "loss - 33.89096260070801\n",
      "loss - 33.89337521791458\n",
      "loss - 33.88403534889221\n",
      "loss - 33.89524108171463\n",
      "loss - 33.88734167814255\n",
      "loss - 33.88811004161835\n",
      "loss - 33.88478273153305\n",
      "loss - 33.894096314907074\n",
      "loss - 33.8892577290535\n",
      "loss - 33.89203751087189\n",
      "loss - 33.89319497346878\n",
      "loss - 33.88058394193649\n",
      "loss - 33.88978773355484\n",
      "loss - 33.88367563486099\n",
      "loss - 33.89378958940506\n",
      "loss - 33.888079822063446\n",
      "loss - 33.89293420314789\n",
      "loss - 33.8952402472496\n",
      "loss - 33.88868314027786\n",
      "loss - 33.89341080188751\n",
      "loss - 33.89784646034241\n",
      "loss - 33.89185905456543\n",
      "loss - 33.892882108688354\n",
      "loss - 33.88766634464264\n",
      "loss - 33.8906369805336\n",
      "loss - 33.88687741756439\n",
      "loss - 33.893433570861816\n",
      "loss - 33.88594603538513\n",
      "loss - 33.88573932647705\n",
      "loss - 33.893462002277374\n",
      "loss - 33.88938790559769\n",
      "loss - 33.88758212327957\n",
      "loss - 33.88486057519913\n",
      "loss - 33.89424967765808\n",
      "loss - 33.882100045681\n",
      "loss - 33.89235293865204\n",
      "loss - 33.89609396457672\n",
      "loss - 33.89074856042862\n",
      "loss - 33.882572650909424\n",
      "loss - 33.89063507318497\n",
      "loss - 33.88548678159714\n",
      "loss - 33.89011228084564\n",
      "loss - 33.88678205013275\n",
      "loss - 33.891216576099396\n",
      "loss - 33.888690173625946\n",
      "loss - 33.88653188943863\n",
      "loss - 33.89586395025253\n",
      "loss - 33.89194130897522\n",
      "loss - 33.887364864349365\n",
      "loss - 33.89828443527222\n",
      "loss - 33.88746279478073\n",
      "loss - 33.8903723359108\n",
      "loss - 33.886081755161285\n",
      "loss - 33.897173166275024\n",
      "loss - 33.89246195554733\n"
     ]
    }
   ],
   "source": [
    "for epoch in range(100):\n",
    "    model.train()\n",
    "    running_loss = 0.0\n",
    "    for input, target in train_loader:\n",
    "        input, target = input.to('cuda'), target.to('cuda')\n",
    "        optimizer.zero_grad()\n",
    "        output = model(input)\n",
    "        loss = criterion(output, target)\n",
    "        loss.backward()\n",
    "        optimizer.step()\n",
    "        running_loss += loss.item()\n",
    "    print(f'loss - {running_loss}')"
   ]
  },
  {
   "cell_type": "code",
   "execution_count": 10,
   "metadata": {},
   "outputs": [
    {
     "name": "stdout",
     "output_type": "stream",
     "text": [
      "0.6156712407294616\n"
     ]
    }
   ],
   "source": [
    "model.eval()\n",
    "all_preds, all_labels = [], []\n",
    "with torch.no_grad():\n",
    "    for input, target in test_loader:\n",
    "        input, target = input.to('cuda'), target.to('cuda')\n",
    "        output = torch.round(model(input))\n",
    "        all_preds.extend(output.to('cpu'))\n",
    "        all_labels.extend(target.to('cpu'))\n",
    "\n",
    "from sklearn.metrics import accuracy_score\n",
    "print(accuracy_score(all_preds, all_labels))\n"
   ]
  }
 ],
 "metadata": {
  "kernelspec": {
   "display_name": "venv",
   "language": "python",
   "name": "python3"
  },
  "language_info": {
   "codemirror_mode": {
    "name": "ipython",
    "version": 3
   },
   "file_extension": ".py",
   "mimetype": "text/x-python",
   "name": "python",
   "nbconvert_exporter": "python",
   "pygments_lexer": "ipython3",
   "version": "3.12.9"
  }
 },
 "nbformat": 4,
 "nbformat_minor": 2
}
