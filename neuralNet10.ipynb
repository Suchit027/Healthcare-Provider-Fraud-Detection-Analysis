{
 "cells": [
  {
   "cell_type": "code",
   "execution_count": 1,
   "metadata": {},
   "outputs": [],
   "source": [
    "import torch\n",
    "from torch import nn\n",
    "from torch.utils.data import Dataset, DataLoader\n",
    "from torchvision import transforms\n",
    "import pandas as pd"
   ]
  },
  {
   "cell_type": "code",
   "execution_count": 2,
   "metadata": {},
   "outputs": [],
   "source": [
    "class Network(nn.Module):\n",
    "    def __init__(self, p1, p2):\n",
    "        super().__init__()\n",
    "        self.features = nn.Sequential(\n",
    "            nn.Linear(31, 31, bias= True),\n",
    "            nn.ReLU(),\n",
    "            nn.Linear(31, 31, bias= True),\n",
    "            nn.ReLU(),\n",
    "            nn.Dropout(p= p1),\n",
    "            nn.Linear(31, 30, bias = True),\n",
    "            nn.ReLU(),\n",
    "            nn.Linear(30, 30, bias= True),\n",
    "            nn.ReLU(),\n",
    "            nn.Linear(30, 30, bias= True),\n",
    "            nn.ReLU(),\n",
    "            nn.Dropout(p= p2),\n",
    "            nn.Linear(30, 25, bias= True),\n",
    "            nn.ReLU(),\n",
    "            nn.Linear(25, 20, bias= True),\n",
    "            nn.ReLU(),\n",
    "            nn.Linear(20, 15, bias= True),\n",
    "            nn.ReLU(),\n",
    "            nn.Linear(15, 10, bias= True),\n",
    "            nn.ReLU(),\n",
    "            nn.Linear(10, 5, bias = True),\n",
    "            nn.ReLU()\n",
    "        )\n",
    "        self.classify = nn.Sequential(\n",
    "            nn.Linear(5, 1, bias= True),\n",
    "            nn.Sigmoid()\n",
    "        )\n",
    "    \n",
    "    def forward(self, x):\n",
    "        return self.classify(self.features(x))"
   ]
  },
  {
   "cell_type": "code",
   "execution_count": 3,
   "metadata": {},
   "outputs": [],
   "source": [
    "class Data(Dataset):\n",
    "    def __init__(self, x, y):\n",
    "        super().__init__()\n",
    "        self.x = torch.tensor(x.values, dtype= torch.float32)\n",
    "        self.y = torch.tensor(y.values, dtype= torch.float32)\n",
    "    def __len__(self):\n",
    "        return self.x.shape[0]\n",
    "    def __getitem__(self, index):\n",
    "        x, y = self.x[index], self.y[index]\n",
    "        return x, y"
   ]
  },
  {
   "cell_type": "code",
   "execution_count": 4,
   "metadata": {},
   "outputs": [],
   "source": [
    "xtrain, ytrain, xtest, ytest = pd.read_csv('./X_train.csv', header= None, index_col = None), pd.read_csv('./y_train.csv', header = None, index_col = None), pd.read_csv('./X_test.csv', header = None, index_col = None), pd.read_csv('./y_test.csv', header = None, index_col = None)\n",
    "train_data = Data(x= xtrain, y= ytrain)\n",
    "test_data = Data(x= xtest, y= ytest)\n",
    "train_loader = DataLoader(train_data, batch_size=10000, shuffle= True)\n",
    "test_loader = DataLoader(test_data, batch_size= 10000)"
   ]
  },
  {
   "cell_type": "code",
   "execution_count": 5,
   "metadata": {},
   "outputs": [
    {
     "data": {
      "text/plain": [
       "Network(\n",
       "  (features): Sequential(\n",
       "    (0): Linear(in_features=31, out_features=31, bias=True)\n",
       "    (1): ReLU()\n",
       "    (2): Linear(in_features=31, out_features=31, bias=True)\n",
       "    (3): ReLU()\n",
       "    (4): Dropout(p=0.3, inplace=False)\n",
       "    (5): Linear(in_features=31, out_features=30, bias=True)\n",
       "    (6): ReLU()\n",
       "    (7): Linear(in_features=30, out_features=30, bias=True)\n",
       "    (8): ReLU()\n",
       "    (9): Linear(in_features=30, out_features=30, bias=True)\n",
       "    (10): ReLU()\n",
       "    (11): Dropout(p=0.6, inplace=False)\n",
       "    (12): Linear(in_features=30, out_features=25, bias=True)\n",
       "    (13): ReLU()\n",
       "    (14): Linear(in_features=25, out_features=20, bias=True)\n",
       "    (15): ReLU()\n",
       "    (16): Linear(in_features=20, out_features=15, bias=True)\n",
       "    (17): ReLU()\n",
       "    (18): Linear(in_features=15, out_features=10, bias=True)\n",
       "    (19): ReLU()\n",
       "    (20): Linear(in_features=10, out_features=5, bias=True)\n",
       "    (21): ReLU()\n",
       "  )\n",
       "  (classify): Sequential(\n",
       "    (0): Linear(in_features=5, out_features=1, bias=True)\n",
       "    (1): Sigmoid()\n",
       "  )\n",
       ")"
      ]
     },
     "execution_count": 5,
     "metadata": {},
     "output_type": "execute_result"
    }
   ],
   "source": [
    "model = Network(0.3, 0.6)\n",
    "model.to('cuda')"
   ]
  },
  {
   "cell_type": "code",
   "execution_count": 6,
   "metadata": {},
   "outputs": [],
   "source": [
    "criterion = nn.BCELoss()\n",
    "optimizer = torch.optim.Adam(model.parameters(), lr = 0.01, weight_decay= 0.001)"
   ]
  },
  {
   "cell_type": "code",
   "execution_count": 7,
   "metadata": {},
   "outputs": [
    {
     "name": "stdout",
     "output_type": "stream",
     "text": [
      "loss - 34.31029969453812\n",
      "loss - 33.8978071808815\n",
      "loss - 33.8809620141983\n",
      "loss - 33.8882954120636\n",
      "loss - 33.88553899526596\n",
      "loss - 33.890077352523804\n",
      "loss - 33.88453710079193\n",
      "loss - 33.88616579771042\n",
      "loss - 33.89145475625992\n",
      "loss - 33.89017617702484\n",
      "loss - 33.897412836551666\n",
      "loss - 33.89099943637848\n",
      "loss - 33.89171123504639\n",
      "loss - 33.89288252592087\n",
      "loss - 33.8935741186142\n",
      "loss - 33.889671981334686\n",
      "loss - 33.883439779281616\n",
      "loss - 33.88964486122131\n",
      "loss - 33.89181327819824\n",
      "loss - 33.89153218269348\n",
      "loss - 33.891111731529236\n",
      "loss - 33.892656207084656\n",
      "loss - 33.89246243238449\n",
      "loss - 33.88726818561554\n",
      "loss - 33.895561039447784\n",
      "loss - 33.88588231801987\n",
      "loss - 33.893262922763824\n",
      "loss - 33.88752102851868\n",
      "loss - 33.88687229156494\n",
      "loss - 33.8894938826561\n",
      "loss - 33.88780742883682\n",
      "loss - 33.89153045415878\n",
      "loss - 33.89276272058487\n",
      "loss - 33.88433641195297\n",
      "loss - 33.88443332910538\n",
      "loss - 33.88840639591217\n",
      "loss - 33.886161267757416\n",
      "loss - 33.89842128753662\n",
      "loss - 33.88866329193115\n",
      "loss - 33.88438504934311\n",
      "loss - 33.88875341415405\n",
      "loss - 33.88440591096878\n",
      "loss - 33.89067530632019\n",
      "loss - 33.89270907640457\n",
      "loss - 33.89242732524872\n",
      "loss - 33.89333188533783\n",
      "loss - 33.8871905207634\n",
      "loss - 33.88799184560776\n",
      "loss - 33.890778601169586\n",
      "loss - 33.88968908786774\n",
      "loss - 33.88571548461914\n",
      "loss - 33.887752056121826\n",
      "loss - 33.88551127910614\n",
      "loss - 33.885846853256226\n",
      "loss - 33.894357562065125\n",
      "loss - 33.8918035030365\n",
      "loss - 33.88866883516312\n",
      "loss - 33.88567006587982\n",
      "loss - 33.89097046852112\n",
      "loss - 33.89047807455063\n",
      "loss - 33.886307299137115\n",
      "loss - 33.89002567529678\n",
      "loss - 33.88503175973892\n",
      "loss - 33.889788925647736\n",
      "loss - 33.8907310962677\n",
      "loss - 33.880205392837524\n",
      "loss - 33.88968926668167\n",
      "loss - 33.89366668462753\n",
      "loss - 33.89343297481537\n",
      "loss - 33.894434094429016\n",
      "loss - 33.88399177789688\n",
      "loss - 33.88874876499176\n",
      "loss - 33.89167243242264\n",
      "loss - 33.89274972677231\n",
      "loss - 33.895288169384\n",
      "loss - 33.88822561502457\n",
      "loss - 33.8906791806221\n",
      "loss - 33.891203820705414\n",
      "loss - 33.89963495731354\n",
      "loss - 33.8858637213707\n",
      "loss - 33.89103972911835\n",
      "loss - 33.887699484825134\n",
      "loss - 33.890221118927\n",
      "loss - 33.885756492614746\n",
      "loss - 33.891126692295074\n",
      "loss - 33.890901029109955\n",
      "loss - 33.88991057872772\n",
      "loss - 33.888592183589935\n",
      "loss - 33.88662552833557\n",
      "loss - 33.89394038915634\n",
      "loss - 33.88683491945267\n",
      "loss - 33.895529091358185\n",
      "loss - 33.88680249452591\n",
      "loss - 33.89126110076904\n",
      "loss - 33.89541471004486\n",
      "loss - 33.88701945543289\n",
      "loss - 33.887926161289215\n",
      "loss - 33.88812977075577\n",
      "loss - 33.8816477060318\n",
      "loss - 33.88828146457672\n"
     ]
    }
   ],
   "source": [
    "for epoch in range(100):\n",
    "    model.train()\n",
    "    running_loss = 0.0\n",
    "    for input, target in train_loader:\n",
    "        input, target = input.to('cuda'), target.to('cuda')\n",
    "        optimizer.zero_grad()\n",
    "        output = model(input)\n",
    "        loss = criterion(output, target)\n",
    "        loss.backward()\n",
    "        optimizer.step()\n",
    "        running_loss += loss.item()\n",
    "    print(f'loss - {running_loss}')"
   ]
  },
  {
   "cell_type": "code",
   "execution_count": 8,
   "metadata": {},
   "outputs": [
    {
     "name": "stdout",
     "output_type": "stream",
     "text": [
      "0.6156712407294616\n"
     ]
    }
   ],
   "source": [
    "model.eval()\n",
    "all_preds, all_labels = [], []\n",
    "with torch.no_grad():\n",
    "    for input, target in test_loader:\n",
    "        input, target = input.to('cuda'), target.to('cuda')\n",
    "        output = torch.round(model(input))\n",
    "        all_preds.extend(output.to('cpu'))\n",
    "        all_labels.extend(target.to('cpu'))\n",
    "\n",
    "from sklearn.metrics import accuracy_score\n",
    "print(accuracy_score(all_preds, all_labels))\n"
   ]
  },
  {
   "cell_type": "code",
   "execution_count": null,
   "metadata": {},
   "outputs": [],
   "source": []
  }
 ],
 "metadata": {
  "kernelspec": {
   "display_name": "venv",
   "language": "python",
   "name": "python3"
  },
  "language_info": {
   "codemirror_mode": {
    "name": "ipython",
    "version": 3
   },
   "file_extension": ".py",
   "mimetype": "text/x-python",
   "name": "python",
   "nbconvert_exporter": "python",
   "pygments_lexer": "ipython3",
   "version": "3.12.9"
  }
 },
 "nbformat": 4,
 "nbformat_minor": 2
}
