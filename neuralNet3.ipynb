{
 "cells": [
  {
   "cell_type": "code",
   "execution_count": 1,
   "metadata": {},
   "outputs": [],
   "source": [
    "import torch\n",
    "from torch import nn\n",
    "from torch.utils.data import Dataset, DataLoader\n",
    "from torchvision import transforms\n",
    "import pandas as pd"
   ]
  },
  {
   "cell_type": "code",
   "execution_count": 2,
   "metadata": {},
   "outputs": [],
   "source": [
    "class Network(nn.Module):\n",
    "    def __init__(self, p1, p2):\n",
    "        super().__init__()\n",
    "        self.features = nn.Sequential(\n",
    "            nn.Linear(31, 25, bias= True),\n",
    "            nn.ReLU(),\n",
    "            nn.Linear(25, 20, bias= True),\n",
    "            nn.ReLU(),\n",
    "            nn.Dropout(p= p1),\n",
    "            nn.Linear(20, 15, bias = True),\n",
    "            nn.ReLU(),\n",
    "            nn.Dropout(p= p2),\n",
    "            nn.Linear(15, 10, bias= True),\n",
    "            nn.ReLU()\n",
    "        )\n",
    "        self.classify = nn.Sequential(\n",
    "            nn.Linear(10, 1, bias= True),\n",
    "            nn.Sigmoid()\n",
    "        )\n",
    "    \n",
    "    def forward(self, x):\n",
    "        return self.classify(self.features(x))"
   ]
  },
  {
   "cell_type": "code",
   "execution_count": 3,
   "metadata": {},
   "outputs": [],
   "source": [
    "class Data(Dataset):\n",
    "    def __init__(self, x, y):\n",
    "        super().__init__()\n",
    "        self.x = torch.tensor(x.values, dtype= torch.float32)\n",
    "        self.y = torch.tensor(y.values, dtype= torch.float32)\n",
    "    def __len__(self):\n",
    "        return self.x.shape[0]\n",
    "    def __getitem__(self, index):\n",
    "        x, y = self.x[index], self.y[index]\n",
    "        return x, y"
   ]
  },
  {
   "cell_type": "code",
   "execution_count": 4,
   "metadata": {},
   "outputs": [],
   "source": [
    "xtrain, ytrain, xtest, ytest = pd.read_csv('./X_train.csv', header= None, index_col = None), pd.read_csv('./y_train.csv', header = None, index_col = None), pd.read_csv('./X_test.csv', header = None, index_col = None), pd.read_csv('./y_test.csv', header = None, index_col = None)\n",
    "train_data = Data(x= xtrain, y= ytrain)\n",
    "test_data = Data(x= xtest, y= ytest)\n",
    "train_loader = DataLoader(train_data, batch_size=10000, shuffle= True)\n",
    "test_loader = DataLoader(test_data, batch_size= 10000)"
   ]
  },
  {
   "cell_type": "code",
   "execution_count": 5,
   "metadata": {},
   "outputs": [
    {
     "data": {
      "text/plain": [
       "Network(\n",
       "  (features): Sequential(\n",
       "    (0): Linear(in_features=31, out_features=25, bias=True)\n",
       "    (1): ReLU()\n",
       "    (2): Linear(in_features=25, out_features=20, bias=True)\n",
       "    (3): ReLU()\n",
       "    (4): Dropout(p=0.3, inplace=False)\n",
       "    (5): Linear(in_features=20, out_features=15, bias=True)\n",
       "    (6): ReLU()\n",
       "    (7): Dropout(p=0.6, inplace=False)\n",
       "    (8): Linear(in_features=15, out_features=10, bias=True)\n",
       "    (9): ReLU()\n",
       "  )\n",
       "  (classify): Sequential(\n",
       "    (0): Linear(in_features=10, out_features=1, bias=True)\n",
       "    (1): Sigmoid()\n",
       "  )\n",
       ")"
      ]
     },
     "execution_count": 5,
     "metadata": {},
     "output_type": "execute_result"
    }
   ],
   "source": [
    "model = Network(0.3, 0.6)\n",
    "model.to('cuda')"
   ]
  },
  {
   "cell_type": "code",
   "execution_count": 6,
   "metadata": {},
   "outputs": [],
   "source": [
    "criterion = nn.BCELoss()\n",
    "optimizer = torch.optim.Adam(model.parameters(), lr = 0.01, weight_decay= 0.001)"
   ]
  },
  {
   "cell_type": "code",
   "execution_count": 7,
   "metadata": {},
   "outputs": [
    {
     "name": "stdout",
     "output_type": "stream",
     "text": [
      "loss - 64.86952823400497\n",
      "loss - 33.888159096241\n",
      "loss - 33.883466362953186\n",
      "loss - 33.88642460107803\n",
      "loss - 33.88703274726868\n",
      "loss - 33.87837588787079\n",
      "loss - 33.88309109210968\n",
      "loss - 33.87517064809799\n",
      "loss - 33.87720608711243\n",
      "loss - 33.87654256820679\n",
      "loss - 33.884921193122864\n",
      "loss - 33.86595839262009\n",
      "loss - 33.8718279004097\n",
      "loss - 33.872386395931244\n",
      "loss - 33.87218767404556\n",
      "loss - 33.86878454685211\n",
      "loss - 33.8626144528389\n",
      "loss - 33.864177942276\n",
      "loss - 33.85688644647598\n",
      "loss - 33.86486452817917\n",
      "loss - 33.86363184452057\n",
      "loss - 33.8524312376976\n",
      "loss - 33.81784123182297\n",
      "loss - 34.048435151576996\n",
      "loss - 33.889833092689514\n",
      "loss - 33.88548618555069\n",
      "loss - 33.88966202735901\n",
      "loss - 33.88264763355255\n",
      "loss - 33.899217784404755\n",
      "loss - 33.89234137535095\n",
      "loss - 33.89548945426941\n",
      "loss - 33.89429974555969\n",
      "loss - 33.889062345027924\n",
      "loss - 33.869050085544586\n",
      "loss - 33.84017479419708\n",
      "loss - 33.83054065704346\n",
      "loss - 33.81440979242325\n",
      "loss - 33.816646695137024\n",
      "loss - 33.824712455272675\n",
      "loss - 33.82243722677231\n",
      "loss - 33.81783980131149\n",
      "loss - 33.8031160235405\n",
      "loss - 33.91329771280289\n",
      "loss - 33.88985729217529\n",
      "loss - 33.88317513465881\n",
      "loss - 33.884610295295715\n",
      "loss - 33.89146047830582\n",
      "loss - 33.89302706718445\n",
      "loss - 33.88595896959305\n",
      "loss - 33.89134657382965\n",
      "loss - 33.88706213235855\n",
      "loss - 33.8898840546608\n",
      "loss - 33.88491541147232\n",
      "loss - 33.885535418987274\n",
      "loss - 33.888791680336\n",
      "loss - 33.890366554260254\n",
      "loss - 33.88879281282425\n",
      "loss - 33.88022744655609\n",
      "loss - 33.88718229532242\n",
      "loss - 33.88435161113739\n",
      "loss - 33.88721179962158\n",
      "loss - 33.880578339099884\n",
      "loss - 33.887344658374786\n",
      "loss - 33.87999415397644\n",
      "loss - 33.89052474498749\n",
      "loss - 33.779973685741425\n",
      "loss - 33.69605088233948\n",
      "loss - 33.67960661649704\n",
      "loss - 33.67413634061813\n",
      "loss - 33.678038597106934\n",
      "loss - 33.68397933244705\n",
      "loss - 33.663992047309875\n",
      "loss - 33.64662170410156\n",
      "loss - 33.63314610719681\n",
      "loss - 33.64315319061279\n",
      "loss - 33.64060616493225\n",
      "loss - 33.62129330635071\n",
      "loss - 33.61805933713913\n",
      "loss - 33.623528718948364\n",
      "loss - 33.6186226606369\n",
      "loss - 33.61664354801178\n",
      "loss - 33.61617624759674\n",
      "loss - 33.61540895700455\n",
      "loss - 33.615286469459534\n",
      "loss - 33.63261955976486\n",
      "loss - 33.620061695575714\n",
      "loss - 33.61493444442749\n",
      "loss - 33.61318397521973\n",
      "loss - 33.62851667404175\n",
      "loss - 33.60770845413208\n",
      "loss - 33.61602920293808\n",
      "loss - 33.613774836063385\n",
      "loss - 33.60285246372223\n",
      "loss - 33.62342381477356\n",
      "loss - 33.62728804349899\n",
      "loss - 33.620872259140015\n",
      "loss - 33.612121284008026\n",
      "loss - 33.60860502719879\n",
      "loss - 33.62067532539368\n",
      "loss - 33.607962012290955\n"
     ]
    }
   ],
   "source": [
    "for epoch in range(100):\n",
    "    model.train()\n",
    "    running_loss = 0.0\n",
    "    for input, target in train_loader:\n",
    "        input, target = input.to('cuda'), target.to('cuda')\n",
    "        optimizer.zero_grad()\n",
    "        output = model(input)\n",
    "        loss = criterion(output, target)\n",
    "        loss.backward()\n",
    "        optimizer.step()\n",
    "        running_loss += loss.item()\n",
    "    print(f'loss - {running_loss}')"
   ]
  },
  {
   "cell_type": "code",
   "execution_count": 8,
   "metadata": {},
   "outputs": [
    {
     "name": "stdout",
     "output_type": "stream",
     "text": [
      "0.6195944251370428\n"
     ]
    }
   ],
   "source": [
    "model.eval()\n",
    "all_preds, all_labels = [], []\n",
    "with torch.no_grad():\n",
    "    for input, target in test_loader:\n",
    "        input, target = input.to('cuda'), target.to('cuda')\n",
    "        output = torch.round(model(input))\n",
    "        all_preds.extend(output.to('cpu'))\n",
    "        all_labels.extend(target.to('cpu'))\n",
    "\n",
    "from sklearn.metrics import accuracy_score\n",
    "print(accuracy_score(all_preds, all_labels))\n"
   ]
  },
  {
   "cell_type": "code",
   "execution_count": null,
   "metadata": {},
   "outputs": [],
   "source": []
  }
 ],
 "metadata": {
  "kernelspec": {
   "display_name": "venv",
   "language": "python",
   "name": "python3"
  },
  "language_info": {
   "codemirror_mode": {
    "name": "ipython",
    "version": 3
   },
   "file_extension": ".py",
   "mimetype": "text/x-python",
   "name": "python",
   "nbconvert_exporter": "python",
   "pygments_lexer": "ipython3",
   "version": "3.12.9"
  }
 },
 "nbformat": 4,
 "nbformat_minor": 2
}
